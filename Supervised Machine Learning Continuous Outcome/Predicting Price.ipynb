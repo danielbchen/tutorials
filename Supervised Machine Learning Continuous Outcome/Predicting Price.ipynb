{
 "cells": [
  {
   "cell_type": "markdown",
   "metadata": {},
   "source": [
    "# Supervised Machine Learning to Predict Price"
   ]
  },
  {
   "cell_type": "markdown",
   "metadata": {},
   "source": [
    "## Goals\n",
    "\n",
    "In this Jupyter Notebook, we'll predict price using supervised machine learning algorithms for continuous outcomes. This notebook highlights:\n",
    "\n",
    "1. Data cleaning \n",
    "2. Feature selection\n",
    "3. Model evaluation and selection"
   ]
  },
  {
   "cell_type": "markdown",
   "metadata": {},
   "source": [
    "## Data Loading and Cleaning"
   ]
  },
  {
   "cell_type": "code",
   "execution_count": 93,
   "metadata": {},
   "outputs": [],
   "source": [
    "import pandas as pd\n",
    "import numpy as np\n",
    "\n",
    "from sklearn import linear_model # Linear, ridge, and LASSO regression\n",
    "from sklearn.ensemble import RandomForestRegressor\n",
    "from xgboost import XGBRegressor\n",
    "from lightgbm import LGBMRegressor  # may need to run brew install libomp on MacOS\n",
    "\n",
    "from sklearn.pipeline import make_pipeline\n",
    "from sklearn.preprocessing import StandardScaler\n",
    "from sklearn.model_selection import train_test_split\n",
    "from sklearn.model_selection import GridSearchCV\n",
    "from sklearn.metrics import r2_score\n",
    "from sklearn.metrics import mean_squared_error "
   ]
  },
  {
   "cell_type": "code",
   "execution_count": 55,
   "metadata": {},
   "outputs": [],
   "source": [
    "data_path = '/Users/danielchen/Desktop/GitHub/tutorials/Supervised Machine Learning Continuous Outcome/Data/sample.csv'\n",
    "data = pd.read_csv(data_path)"
   ]
  },
  {
   "cell_type": "code",
   "execution_count": 56,
   "metadata": {},
   "outputs": [
    {
     "data": {
      "text/html": [
       "<div>\n",
       "<style scoped>\n",
       "    .dataframe tbody tr th:only-of-type {\n",
       "        vertical-align: middle;\n",
       "    }\n",
       "\n",
       "    .dataframe tbody tr th {\n",
       "        vertical-align: top;\n",
       "    }\n",
       "\n",
       "    .dataframe thead th {\n",
       "        text-align: right;\n",
       "    }\n",
       "</style>\n",
       "<table border=\"1\" class=\"dataframe\">\n",
       "  <thead>\n",
       "    <tr style=\"text-align: right;\">\n",
       "      <th></th>\n",
       "      <th>loc1</th>\n",
       "      <th>loc2</th>\n",
       "      <th>para1</th>\n",
       "      <th>dow</th>\n",
       "      <th>para2</th>\n",
       "      <th>para3</th>\n",
       "      <th>para4</th>\n",
       "      <th>price</th>\n",
       "    </tr>\n",
       "  </thead>\n",
       "  <tbody>\n",
       "    <tr>\n",
       "      <th>0</th>\n",
       "      <td>0</td>\n",
       "      <td>01</td>\n",
       "      <td>1</td>\n",
       "      <td>Mon</td>\n",
       "      <td>662</td>\n",
       "      <td>3000.0</td>\n",
       "      <td>3.8</td>\n",
       "      <td>73.49</td>\n",
       "    </tr>\n",
       "    <tr>\n",
       "      <th>1</th>\n",
       "      <td>9</td>\n",
       "      <td>99</td>\n",
       "      <td>1</td>\n",
       "      <td>Thu</td>\n",
       "      <td>340</td>\n",
       "      <td>2760.0</td>\n",
       "      <td>9.2</td>\n",
       "      <td>300.00</td>\n",
       "    </tr>\n",
       "    <tr>\n",
       "      <th>2</th>\n",
       "      <td>0</td>\n",
       "      <td>04</td>\n",
       "      <td>0</td>\n",
       "      <td>Mon</td>\n",
       "      <td>16</td>\n",
       "      <td>2700.0</td>\n",
       "      <td>3.0</td>\n",
       "      <td>130.00</td>\n",
       "    </tr>\n",
       "    <tr>\n",
       "      <th>3</th>\n",
       "      <td>4</td>\n",
       "      <td>40</td>\n",
       "      <td>1</td>\n",
       "      <td>Mon</td>\n",
       "      <td>17</td>\n",
       "      <td>12320.0</td>\n",
       "      <td>6.4</td>\n",
       "      <td>365.00</td>\n",
       "    </tr>\n",
       "    <tr>\n",
       "      <th>4</th>\n",
       "      <td>5</td>\n",
       "      <td>50</td>\n",
       "      <td>1</td>\n",
       "      <td>Thu</td>\n",
       "      <td>610</td>\n",
       "      <td>2117.0</td>\n",
       "      <td>10.8</td>\n",
       "      <td>357.50</td>\n",
       "    </tr>\n",
       "  </tbody>\n",
       "</table>\n",
       "</div>"
      ],
      "text/plain": [
       "  loc1 loc2  para1  dow  para2    para3  para4   price\n",
       "0    0   01      1  Mon    662   3000.0    3.8   73.49\n",
       "1    9   99      1  Thu    340   2760.0    9.2  300.00\n",
       "2    0   04      0  Mon     16   2700.0    3.0  130.00\n",
       "3    4   40      1  Mon     17  12320.0    6.4  365.00\n",
       "4    5   50      1  Thu    610   2117.0   10.8  357.50"
      ]
     },
     "execution_count": 56,
     "metadata": {},
     "output_type": "execute_result"
    }
   ],
   "source": [
    "data.head()"
   ]
  },
  {
   "cell_type": "markdown",
   "metadata": {},
   "source": [
    "For this exercise, we'll need to ensure that all of our data is numeric."
   ]
  },
  {
   "cell_type": "code",
   "execution_count": 57,
   "metadata": {},
   "outputs": [
    {
     "name": "stdout",
     "output_type": "stream",
     "text": [
      "<class 'pandas.core.frame.DataFrame'>\n",
      "RangeIndex: 10000 entries, 0 to 9999\n",
      "Data columns (total 8 columns):\n",
      " #   Column  Non-Null Count  Dtype  \n",
      "---  ------  --------------  -----  \n",
      " 0   loc1    10000 non-null  object \n",
      " 1   loc2    10000 non-null  object \n",
      " 2   para1   10000 non-null  int64  \n",
      " 3   dow     10000 non-null  object \n",
      " 4   para2   10000 non-null  int64  \n",
      " 5   para3   10000 non-null  float64\n",
      " 6   para4   10000 non-null  float64\n",
      " 7   price   10000 non-null  float64\n",
      "dtypes: float64(3), int64(2), object(3)\n",
      "memory usage: 625.1+ KB\n"
     ]
    }
   ],
   "source": [
    "data.info()"
   ]
  },
  {
   "cell_type": "markdown",
   "metadata": {},
   "source": [
    "It appears that the columns `loc1`, `loc2`, and `dow` (day of week) contain non-numeric values (or are string characters as in the `dow` column). "
   ]
  },
  {
   "cell_type": "code",
   "execution_count": 58,
   "metadata": {},
   "outputs": [],
   "source": [
    "# We'll only keep rows that have numeric values in the loc1 column\n",
    "data = data[data['loc1'].str.contains('\\d')]\n",
    "\n",
    "# Convert loc1 and loc2 from strings to numeric\n",
    "to_numeric_cols = ['loc' + str(num) for num in range(1, 3)]\n",
    "data[to_numeric_cols] = data[to_numeric_cols].apply(pd.to_numeric, errors='coerce', axis=1)\n",
    "\n",
    "# Drop any NA values\n",
    "data.dropna(inplace=True)\n"
   ]
  },
  {
   "cell_type": "markdown",
   "metadata": {},
   "source": [
    "Let's check the number of observations that are left and the data types of the `loc` columns"
   ]
  },
  {
   "cell_type": "code",
   "execution_count": 59,
   "metadata": {},
   "outputs": [
    {
     "name": "stdout",
     "output_type": "stream",
     "text": [
      "<class 'pandas.core.frame.DataFrame'>\n",
      "Int64Index: 9993 entries, 0 to 9999\n",
      "Data columns (total 8 columns):\n",
      " #   Column  Non-Null Count  Dtype  \n",
      "---  ------  --------------  -----  \n",
      " 0   loc1    9993 non-null   float64\n",
      " 1   loc2    9993 non-null   float64\n",
      " 2   para1   9993 non-null   int64  \n",
      " 3   dow     9993 non-null   object \n",
      " 4   para2   9993 non-null   int64  \n",
      " 5   para3   9993 non-null   float64\n",
      " 6   para4   9993 non-null   float64\n",
      " 7   price   9993 non-null   float64\n",
      "dtypes: float64(5), int64(2), object(1)\n",
      "memory usage: 702.6+ KB\n"
     ]
    }
   ],
   "source": [
    "data.info()\n"
   ]
  },
  {
   "cell_type": "markdown",
   "metadata": {},
   "source": [
    "It looks like the `dow` column still contains strings. Let's convert the categories into numeric values."
   ]
  },
  {
   "cell_type": "code",
   "execution_count": 74,
   "metadata": {},
   "outputs": [],
   "source": [
    "dow_catgeories = data['dow'].unique().tolist()\n",
    "dow_numeric = [x for x in range(1, len(dow_catgeories) + 1)]\n",
    "replacement_dict = dict(zip(dow_catgeories, dow_numeric))\n",
    "\n",
    "data['dow'] = data['dow'].replace(replacement_dict)"
   ]
  },
  {
   "cell_type": "markdown",
   "metadata": {},
   "source": [
    "One final check on our data types:"
   ]
  },
  {
   "cell_type": "code",
   "execution_count": 75,
   "metadata": {},
   "outputs": [
    {
     "name": "stdout",
     "output_type": "stream",
     "text": [
      "<class 'pandas.core.frame.DataFrame'>\n",
      "Int64Index: 9993 entries, 0 to 9999\n",
      "Data columns (total 8 columns):\n",
      " #   Column  Non-Null Count  Dtype  \n",
      "---  ------  --------------  -----  \n",
      " 0   loc1    9993 non-null   float64\n",
      " 1   loc2    9993 non-null   float64\n",
      " 2   para1   9993 non-null   int64  \n",
      " 3   dow     9993 non-null   int64  \n",
      " 4   para2   9993 non-null   int64  \n",
      " 5   para3   9993 non-null   float64\n",
      " 6   para4   9993 non-null   float64\n",
      " 7   price   9993 non-null   float64\n",
      "dtypes: float64(5), int64(3)\n",
      "memory usage: 702.6 KB\n"
     ]
    }
   ],
   "source": [
    "data.info()"
   ]
  },
  {
   "cell_type": "markdown",
   "metadata": {},
   "source": [
    "## LASSO Regression Draft"
   ]
  },
  {
   "cell_type": "code",
   "execution_count": 110,
   "metadata": {},
   "outputs": [],
   "source": [
    "grid_search = GridSearchCV(\n",
    "    estimator=linear_model.Lasso(random_state=42),\n",
    "    param_grid={'alpha':(10 ** np.linspace(start=-2, stop=2, num=100))},\n",
    "    cv=10,\n",
    "    scoring='neg_mean_squared_error'\n",
    ")"
   ]
  },
  {
   "cell_type": "markdown",
   "metadata": {},
   "source": [
    "Fit our instance of `GridSearchCV` onto our data to find the optimal alpha."
   ]
  },
  {
   "cell_type": "code",
   "execution_count": 273,
   "metadata": {},
   "outputs": [],
   "source": [
    "# Identify our features and targets - ensure they're numpy arrays\n",
    "X = data.drop('price', axis=1).values\n",
    "y = data['price'].values\n",
    "\n",
    "# Standardize X otherwise we'll end up with funky results\n",
    "X = StandardScaler().fit_transform(X)\n",
    "\n",
    "results = grid_search.fit(X, y)"
   ]
  },
  {
   "cell_type": "code",
   "execution_count": 274,
   "metadata": {},
   "outputs": [],
   "source": [
    "# Split our data into training and testing sets\n",
    "X_train, X_test, y_train, y_test = train_test_split(\n",
    "    X,\n",
    "    y,\n",
    "    test_size=0.3,\n",
    "    random_state=23\n",
    ")"
   ]
  },
  {
   "cell_type": "code",
   "execution_count": 275,
   "metadata": {},
   "outputs": [],
   "source": [
    "# Instantiate LASSO class\n",
    "lasso = linear_model.Lasso(alpha=results.best_params_['alpha'], random_state=42)\n",
    "\n",
    "# Fit onto our training data\n",
    "X_train = StandardScaler().fit_transform(X_train)\n",
    "lasso.fit(X_train, y_train)\n",
    "\n",
    "# Make predictions on training and testing data\n",
    "train_rsquared = lasso.score(X_train, y_train)\n",
    "test_rsquared = lasso.score(X_test, y_test)\n",
    "\n",
    "ytrain_predictions = lasso.predict(X_train)\n",
    "ytest_predictions = lasso.predict(X_test)\n",
    "\n",
    "train_mse = mean_squared_error(y_train, ytrain_predictions)\n",
    "test_mse = mean_squared_error(y_test, ytest_predictions)"
   ]
  },
  {
   "cell_type": "code",
   "execution_count": 276,
   "metadata": {},
   "outputs": [
    {
     "name": "stdout",
     "output_type": "stream",
     "text": [
      "36021.42807770397 27908.757555969856\n",
      "0.5461507076194688 0.6016190079030486\n"
     ]
    }
   ],
   "source": [
    "print(train_mse, test_mse)\n",
    "\n",
    "print(train_rsquared, test_rsquared)\n"
   ]
  },
  {
   "cell_type": "code",
   "execution_count": 255,
   "metadata": {},
   "outputs": [
    {
     "data": {
      "text/plain": [
       "0.5461507076194687"
      ]
     },
     "execution_count": 255,
     "metadata": {},
     "output_type": "execute_result"
    }
   ],
   "source": [
    "lasso.score(X_train, y_train)\n"
   ]
  },
  {
   "cell_type": "code",
   "execution_count": null,
   "metadata": {},
   "outputs": [],
   "source": [
    "lasso = Lasso(alpha=alpha, normalize=True)\n",
    "lasso.fit(x_train, y_train)\n",
    "\n",
    "train_rsquared = lasso.score(x_train, y_train)\n",
    "test_rsquared = lasso.score(x_test, y_test)\n",
    "\n",
    "ytrain_predictions = lasso.predict(x_train)\n",
    "ytest_predictions = lasso.predict(x_test)\n",
    "\n",
    "train_mse = mean_squared_error(y_train, ytrain_predictions)\n",
    "test_mse = mean_squared_error(y_test, ytest_predictions)\n",
    "\n",
    "results = pd.DataFrame({\n",
    "    'Lasso Train R-Squared': [train_rsquared],\n",
    "    'Lasso Test R-Squared': [test_rsquared],\n",
    "    'Lasso Train MSE': [train_mse],\n",
    "    'Lasso Test MSE': [test_mse],\n",
    "})\n"
   ]
  },
  {
   "cell_type": "code",
   "execution_count": 257,
   "metadata": {},
   "outputs": [
    {
     "data": {
      "text/plain": [
       "0.5461507076194687"
      ]
     },
     "execution_count": 257,
     "metadata": {},
     "output_type": "execute_result"
    }
   ],
   "source": [
    "r2_score(y_true=y_train, y_pred=ytrain_predictions)"
   ]
  },
  {
   "cell_type": "code",
   "execution_count": 258,
   "metadata": {},
   "outputs": [
    {
     "data": {
      "text/plain": [
       "-73358.30404486162"
      ]
     },
     "execution_count": 258,
     "metadata": {},
     "output_type": "execute_result"
    }
   ],
   "source": [
    "r2_score(y_true=y_test, y_pred=ytest_predictions)"
   ]
  },
  {
   "cell_type": "code",
   "execution_count": 259,
   "metadata": {},
   "outputs": [
    {
     "data": {
      "text/plain": [
       "0.5461507076194687"
      ]
     },
     "execution_count": 259,
     "metadata": {},
     "output_type": "execute_result"
    }
   ],
   "source": [
    "lasso.score(X_train, y_train)"
   ]
  },
  {
   "cell_type": "code",
   "execution_count": 260,
   "metadata": {},
   "outputs": [
    {
     "data": {
      "text/plain": [
       "array([ -0.        ,  -1.17454361,  18.60135783,  -5.24267703,\n",
       "       142.90073129,   0.        , 137.08772407])"
      ]
     },
     "execution_count": 260,
     "metadata": {},
     "output_type": "execute_result"
    }
   ],
   "source": [
    "lasso.coef_"
   ]
  },
  {
   "cell_type": "code",
   "execution_count": 267,
   "metadata": {},
   "outputs": [
    {
     "data": {
      "text/plain": [
       "{'alpha': 3.1992671377973845,\n",
       " 'copy_X': True,\n",
       " 'fit_intercept': True,\n",
       " 'max_iter': 1000,\n",
       " 'normalize': 'deprecated',\n",
       " 'positive': False,\n",
       " 'precompute': False,\n",
       " 'random_state': 42,\n",
       " 'selection': 'cyclic',\n",
       " 'tol': 0.0001,\n",
       " 'warm_start': False}"
      ]
     },
     "execution_count": 267,
     "metadata": {},
     "output_type": "execute_result"
    }
   ],
   "source": []
  },
  {
   "cell_type": "code",
   "execution_count": 272,
   "metadata": {},
   "outputs": [
    {
     "data": {
      "text/plain": [
       "-89022.78635875523"
      ]
     },
     "execution_count": 272,
     "metadata": {},
     "output_type": "execute_result"
    }
   ],
   "source": [
    "linear_reg = linear_model.LinearRegression()\n",
    "\n",
    "linear_reg.fit(X_train, y_train)\n",
    "\n",
    "linear_reg.score(X_train, y_train)\n",
    "linear_reg.score(X_test, y_test)"
   ]
  },
  {
   "cell_type": "code",
   "execution_count": null,
   "metadata": {},
   "outputs": [],
   "source": []
  }
 ],
 "metadata": {
  "kernelspec": {
   "display_name": "base",
   "language": "python",
   "name": "python3"
  },
  "language_info": {
   "codemirror_mode": {
    "name": "ipython",
    "version": 3
   },
   "file_extension": ".py",
   "mimetype": "text/x-python",
   "name": "python",
   "nbconvert_exporter": "python",
   "pygments_lexer": "ipython3",
   "version": "3.9.12"
  },
  "orig_nbformat": 4
 },
 "nbformat": 4,
 "nbformat_minor": 2
}
