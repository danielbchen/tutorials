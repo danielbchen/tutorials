{
 "cells": [
  {
   "cell_type": "markdown",
   "metadata": {},
   "source": [
    "# Supervised Machine Learning to Predict Price"
   ]
  },
  {
   "cell_type": "markdown",
   "metadata": {},
   "source": [
    "## Goals\n",
    "\n",
    "In this Jupyter Notebook, we'll predict price using supervised machine learning algorithms for continuous outcomes. This notebook highlights:\n",
    "\n",
    "1. Data cleaning \n",
    "2. Feature selection\n",
    "3. Model evaluation and selection"
   ]
  },
  {
   "cell_type": "markdown",
   "metadata": {},
   "source": [
    "## Data Loading and Cleaning"
   ]
  },
  {
   "cell_type": "code",
   "execution_count": 2,
   "metadata": {},
   "outputs": [],
   "source": [
    "import pandas as pd\n",
    "import numpy as np\n",
    "\n",
    "from sklearn import linear_model # Linear, ridge, and LASSO regression\n",
    "from sklearn.ensemble import RandomForestRegressor\n",
    "from xgboost import XGBRegressor\n",
    "from lightgbm import LGBMRegressor  # may need to run brew install libomp on MacOS\n",
    "\n",
    "from sklearn.pipeline import make_pipeline\n",
    "from sklearn.preprocessing import StandardScaler\n",
    "from sklearn.model_selection import train_test_split\n",
    "from sklearn.model_selection import GridSearchCV\n",
    "from sklearn.model_selection import cross_validate\n",
    "from sklearn.metrics import r2_score\n",
    "from sklearn.metrics import mean_squared_error "
   ]
  },
  {
   "cell_type": "code",
   "execution_count": 3,
   "metadata": {},
   "outputs": [],
   "source": [
    "data_path = '/Users/danielchen/Desktop/GitHub/tutorials/Supervised Machine Learning Continuous Outcome/Data/sample.csv'\n",
    "data = pd.read_csv(data_path)"
   ]
  },
  {
   "cell_type": "code",
   "execution_count": 4,
   "metadata": {},
   "outputs": [
    {
     "data": {
      "text/html": [
       "<div>\n",
       "<style scoped>\n",
       "    .dataframe tbody tr th:only-of-type {\n",
       "        vertical-align: middle;\n",
       "    }\n",
       "\n",
       "    .dataframe tbody tr th {\n",
       "        vertical-align: top;\n",
       "    }\n",
       "\n",
       "    .dataframe thead th {\n",
       "        text-align: right;\n",
       "    }\n",
       "</style>\n",
       "<table border=\"1\" class=\"dataframe\">\n",
       "  <thead>\n",
       "    <tr style=\"text-align: right;\">\n",
       "      <th></th>\n",
       "      <th>loc1</th>\n",
       "      <th>loc2</th>\n",
       "      <th>para1</th>\n",
       "      <th>dow</th>\n",
       "      <th>para2</th>\n",
       "      <th>para3</th>\n",
       "      <th>para4</th>\n",
       "      <th>price</th>\n",
       "    </tr>\n",
       "  </thead>\n",
       "  <tbody>\n",
       "    <tr>\n",
       "      <th>0</th>\n",
       "      <td>0</td>\n",
       "      <td>01</td>\n",
       "      <td>1</td>\n",
       "      <td>Mon</td>\n",
       "      <td>662</td>\n",
       "      <td>3000.0</td>\n",
       "      <td>3.8</td>\n",
       "      <td>73.49</td>\n",
       "    </tr>\n",
       "    <tr>\n",
       "      <th>1</th>\n",
       "      <td>9</td>\n",
       "      <td>99</td>\n",
       "      <td>1</td>\n",
       "      <td>Thu</td>\n",
       "      <td>340</td>\n",
       "      <td>2760.0</td>\n",
       "      <td>9.2</td>\n",
       "      <td>300.00</td>\n",
       "    </tr>\n",
       "    <tr>\n",
       "      <th>2</th>\n",
       "      <td>0</td>\n",
       "      <td>04</td>\n",
       "      <td>0</td>\n",
       "      <td>Mon</td>\n",
       "      <td>16</td>\n",
       "      <td>2700.0</td>\n",
       "      <td>3.0</td>\n",
       "      <td>130.00</td>\n",
       "    </tr>\n",
       "    <tr>\n",
       "      <th>3</th>\n",
       "      <td>4</td>\n",
       "      <td>40</td>\n",
       "      <td>1</td>\n",
       "      <td>Mon</td>\n",
       "      <td>17</td>\n",
       "      <td>12320.0</td>\n",
       "      <td>6.4</td>\n",
       "      <td>365.00</td>\n",
       "    </tr>\n",
       "    <tr>\n",
       "      <th>4</th>\n",
       "      <td>5</td>\n",
       "      <td>50</td>\n",
       "      <td>1</td>\n",
       "      <td>Thu</td>\n",
       "      <td>610</td>\n",
       "      <td>2117.0</td>\n",
       "      <td>10.8</td>\n",
       "      <td>357.50</td>\n",
       "    </tr>\n",
       "  </tbody>\n",
       "</table>\n",
       "</div>"
      ],
      "text/plain": [
       "  loc1 loc2  para1  dow  para2    para3  para4   price\n",
       "0    0   01      1  Mon    662   3000.0    3.8   73.49\n",
       "1    9   99      1  Thu    340   2760.0    9.2  300.00\n",
       "2    0   04      0  Mon     16   2700.0    3.0  130.00\n",
       "3    4   40      1  Mon     17  12320.0    6.4  365.00\n",
       "4    5   50      1  Thu    610   2117.0   10.8  357.50"
      ]
     },
     "execution_count": 4,
     "metadata": {},
     "output_type": "execute_result"
    }
   ],
   "source": [
    "data.head()"
   ]
  },
  {
   "cell_type": "markdown",
   "metadata": {},
   "source": [
    "For this exercise, we'll need to ensure that all of our data is numeric."
   ]
  },
  {
   "cell_type": "code",
   "execution_count": 5,
   "metadata": {},
   "outputs": [
    {
     "name": "stdout",
     "output_type": "stream",
     "text": [
      "<class 'pandas.core.frame.DataFrame'>\n",
      "RangeIndex: 10000 entries, 0 to 9999\n",
      "Data columns (total 8 columns):\n",
      " #   Column  Non-Null Count  Dtype  \n",
      "---  ------  --------------  -----  \n",
      " 0   loc1    10000 non-null  object \n",
      " 1   loc2    10000 non-null  object \n",
      " 2   para1   10000 non-null  int64  \n",
      " 3   dow     10000 non-null  object \n",
      " 4   para2   10000 non-null  int64  \n",
      " 5   para3   10000 non-null  float64\n",
      " 6   para4   10000 non-null  float64\n",
      " 7   price   10000 non-null  float64\n",
      "dtypes: float64(3), int64(2), object(3)\n",
      "memory usage: 625.1+ KB\n"
     ]
    }
   ],
   "source": [
    "data.info()"
   ]
  },
  {
   "cell_type": "markdown",
   "metadata": {},
   "source": [
    "It appears that the columns `loc1`, `loc2`, and `dow` (day of week) contain non-numeric values (or are string characters as in the `dow` column). "
   ]
  },
  {
   "cell_type": "code",
   "execution_count": 6,
   "metadata": {},
   "outputs": [],
   "source": [
    "# We'll only keep rows that have numeric values in the loc1 column\n",
    "data = data[data['loc1'].str.contains('\\d')]\n",
    "\n",
    "# Convert loc1 and loc2 from strings to numeric\n",
    "to_numeric_cols = ['loc' + str(num) for num in range(1, 3)]\n",
    "data[to_numeric_cols] = data[to_numeric_cols].apply(pd.to_numeric, errors='coerce', axis=1)\n",
    "\n",
    "# Drop any NA values\n",
    "data.dropna(inplace=True)\n"
   ]
  },
  {
   "cell_type": "markdown",
   "metadata": {},
   "source": [
    "Let's check the number of observations that are left and the data types of the `loc` columns"
   ]
  },
  {
   "cell_type": "code",
   "execution_count": 7,
   "metadata": {},
   "outputs": [
    {
     "name": "stdout",
     "output_type": "stream",
     "text": [
      "<class 'pandas.core.frame.DataFrame'>\n",
      "Index: 9993 entries, 0 to 9999\n",
      "Data columns (total 8 columns):\n",
      " #   Column  Non-Null Count  Dtype  \n",
      "---  ------  --------------  -----  \n",
      " 0   loc1    9993 non-null   float64\n",
      " 1   loc2    9993 non-null   float64\n",
      " 2   para1   9993 non-null   int64  \n",
      " 3   dow     9993 non-null   object \n",
      " 4   para2   9993 non-null   int64  \n",
      " 5   para3   9993 non-null   float64\n",
      " 6   para4   9993 non-null   float64\n",
      " 7   price   9993 non-null   float64\n",
      "dtypes: float64(5), int64(2), object(1)\n",
      "memory usage: 702.6+ KB\n"
     ]
    }
   ],
   "source": [
    "data.info()"
   ]
  },
  {
   "cell_type": "markdown",
   "metadata": {},
   "source": [
    "It looks like the `dow` column still contains strings. Let's convert the categories into numeric values."
   ]
  },
  {
   "cell_type": "code",
   "execution_count": 8,
   "metadata": {},
   "outputs": [],
   "source": [
    "dow_catgeories = data['dow'].unique().tolist()\n",
    "dow_numeric = [x for x in range(1, len(dow_catgeories) + 1)]\n",
    "replacement_dict = dict(zip(dow_catgeories, dow_numeric))\n",
    "\n",
    "data['dow'] = data['dow'].replace(replacement_dict)"
   ]
  },
  {
   "cell_type": "markdown",
   "metadata": {},
   "source": [
    "One final check on our data types:"
   ]
  },
  {
   "cell_type": "code",
   "execution_count": 9,
   "metadata": {},
   "outputs": [
    {
     "name": "stdout",
     "output_type": "stream",
     "text": [
      "<class 'pandas.core.frame.DataFrame'>\n",
      "Index: 9993 entries, 0 to 9999\n",
      "Data columns (total 8 columns):\n",
      " #   Column  Non-Null Count  Dtype  \n",
      "---  ------  --------------  -----  \n",
      " 0   loc1    9993 non-null   float64\n",
      " 1   loc2    9993 non-null   float64\n",
      " 2   para1   9993 non-null   int64  \n",
      " 3   dow     9993 non-null   int64  \n",
      " 4   para2   9993 non-null   int64  \n",
      " 5   para3   9993 non-null   float64\n",
      " 6   para4   9993 non-null   float64\n",
      " 7   price   9993 non-null   float64\n",
      "dtypes: float64(5), int64(3)\n",
      "memory usage: 702.6 KB\n"
     ]
    }
   ],
   "source": [
    "data.info()"
   ]
  },
  {
   "cell_type": "markdown",
   "metadata": {},
   "source": [
    "## LASSO Regression Draft"
   ]
  },
  {
   "cell_type": "code",
   "execution_count": 110,
   "metadata": {},
   "outputs": [],
   "source": [
    "grid_search = GridSearchCV(\n",
    "    estimator=linear_model.Lasso(random_state=42),\n",
    "    param_grid={'alpha':(10 ** np.linspace(start=-2, stop=2, num=100))},\n",
    "    cv=10,\n",
    "    scoring='neg_mean_squared_error'\n",
    ")"
   ]
  },
  {
   "cell_type": "markdown",
   "metadata": {},
   "source": [
    "Fit our instance of `GridSearchCV` onto our data to find the optimal alpha."
   ]
  },
  {
   "cell_type": "code",
   "execution_count": 273,
   "metadata": {},
   "outputs": [],
   "source": [
    "# Identify our features and targets - ensure they're numpy arrays\n",
    "X = data.drop('price', axis=1).values\n",
    "y = data['price'].values\n",
    "\n",
    "# Standardize X otherwise we'll end up with funky results\n",
    "X = StandardScaler().fit_transform(X)\n",
    "\n",
    "results = grid_search.fit(X, y)"
   ]
  },
  {
   "cell_type": "code",
   "execution_count": 274,
   "metadata": {},
   "outputs": [],
   "source": [
    "# Split our data into training and testing sets\n",
    "X_train, X_test, y_train, y_test = train_test_split(\n",
    "    X,\n",
    "    y,\n",
    "    test_size=0.3,\n",
    "    random_state=23\n",
    ")"
   ]
  },
  {
   "cell_type": "code",
   "execution_count": 319,
   "metadata": {},
   "outputs": [],
   "source": [
    "# Instantiate LASSO class\n",
    "lasso = linear_model.Lasso(alpha=results.best_params_['alpha'], random_state=42)\n",
    "\n",
    "# Fit onto our training data\n",
    "X_train = StandardScaler().fit_transform(X_train)\n",
    "lasso.fit(X_train, y_train)\n",
    "\n",
    "# Make predictions on training and testing data\n",
    "train_rsquared = lasso.score(X_train, y_train)\n",
    "test_rsquared = lasso.score(X_test, y_test)\n",
    "\n",
    "ytrain_predictions = lasso.predict(X_train)\n",
    "ytest_predictions = lasso.predict(X_test)\n",
    "\n",
    "train_mse = mean_squared_error(y_train, ytrain_predictions)\n",
    "test_mse = mean_squared_error(y_test, ytest_predictions)"
   ]
  },
  {
   "cell_type": "markdown",
   "metadata": {},
   "source": [
    "# Identifying Features\n",
    "\n",
    "For this walkthrough, we'll identify the best features based on their correlation to our outcome variable `price`. This isn't the only method for feature selection, though. LASSO regression, VIF score, and subset selection are also methods for identifying features. We justify using correlation here since our target variables should at least be related to our outcome variable."
   ]
  },
  {
   "cell_type": "code",
   "execution_count": 10,
   "metadata": {},
   "outputs": [
    {
     "data": {
      "text/html": [
       "<div>\n",
       "<style scoped>\n",
       "    .dataframe tbody tr th:only-of-type {\n",
       "        vertical-align: middle;\n",
       "    }\n",
       "\n",
       "    .dataframe tbody tr th {\n",
       "        vertical-align: top;\n",
       "    }\n",
       "\n",
       "    .dataframe thead th {\n",
       "        text-align: right;\n",
       "    }\n",
       "</style>\n",
       "<table border=\"1\" class=\"dataframe\">\n",
       "  <thead>\n",
       "    <tr style=\"text-align: right;\">\n",
       "      <th></th>\n",
       "      <th>price</th>\n",
       "    </tr>\n",
       "  </thead>\n",
       "  <tbody>\n",
       "    <tr>\n",
       "      <th>para2</th>\n",
       "      <td>0.551222</td>\n",
       "    </tr>\n",
       "    <tr>\n",
       "      <th>para4</th>\n",
       "      <td>0.517614</td>\n",
       "    </tr>\n",
       "    <tr>\n",
       "      <th>para3</th>\n",
       "      <td>0.356949</td>\n",
       "    </tr>\n",
       "    <tr>\n",
       "      <th>para1</th>\n",
       "      <td>0.074555</td>\n",
       "    </tr>\n",
       "    <tr>\n",
       "      <th>loc1</th>\n",
       "      <td>0.044079</td>\n",
       "    </tr>\n",
       "    <tr>\n",
       "      <th>loc2</th>\n",
       "      <td>0.043543</td>\n",
       "    </tr>\n",
       "    <tr>\n",
       "      <th>dow</th>\n",
       "      <td>0.001043</td>\n",
       "    </tr>\n",
       "  </tbody>\n",
       "</table>\n",
       "</div>"
      ],
      "text/plain": [
       "          price\n",
       "para2  0.551222\n",
       "para4  0.517614\n",
       "para3  0.356949\n",
       "para1  0.074555\n",
       "loc1   0.044079\n",
       "loc2   0.043543\n",
       "dow    0.001043"
      ]
     },
     "execution_count": 10,
     "metadata": {},
     "output_type": "execute_result"
    }
   ],
   "source": [
    "correlations = (abs(data.corr()['price']).\n",
    "                  to_frame()\n",
    "                  .sort_values(by='price', ascending=False)[1::])\n",
    "correlations                 \n"
   ]
  },
  {
   "cell_type": "markdown",
   "metadata": {},
   "source": [
    "It looks like `para2`, `para4`, and `para3` are the most related to `price`, so we'll use those for our model."
   ]
  },
  {
   "cell_type": "code",
   "execution_count": 11,
   "metadata": {},
   "outputs": [],
   "source": [
    "features = correlations.nlargest(n=3, columns='price').index.tolist()"
   ]
  },
  {
   "cell_type": "markdown",
   "metadata": {},
   "source": [
    "# Determining an Algorithm\n",
    "\n",
    "Now that our data is in the right format (i.e., we've removed all non-numeric data and missing data), we need to identify the model the optimal algorithm to use. In this instance, by optimal, we are seeking to identify the model that makes the most accurate predictions, or the one that minimizes the mean squared error (the difference between the actual values and our predictions.)"
   ]
  },
  {
   "cell_type": "code",
   "execution_count": 15,
   "metadata": {},
   "outputs": [],
   "source": [
    "# Create a list of tuples specifiying the model name and an instance of the model\n",
    "algorithms = [\n",
    "    ('Linear Regression', linear_model.LinearRegression()),\n",
    "    ('Ridge', linear_model.Ridge(random_state=42)),\n",
    "    ('LASSO', linear_model.Lasso(random_state=42)),\n",
    "    ('Random Forest', RandomForestRegressor(random_state=42)),\n",
    "    ('XGBoost', XGBRegressor(random_state=42))\n",
    "]\n",
    "\n",
    "# Create a list of measures to which we will evaluate the model's performance\n",
    "measures = ['r2', 'neg_mean_squared_error']\n"
   ]
  },
  {
   "cell_type": "code",
   "execution_count": 16,
   "metadata": {},
   "outputs": [],
   "source": [
    "# Identify features and target\n",
    "X = data[features].values\n",
    "y = data['price'].values\n",
    "\n",
    "# Normalize the data\n",
    "X = StandardScaler().fit_transform(X)\n",
    "\n",
    "X_train, X_test, y_train, y_test = train_test_split(\n",
    "    X,\n",
    "    y,\n",
    "    test_size=0.2,\n",
    "    random_state=42\n",
    ")"
   ]
  },
  {
   "cell_type": "code",
   "execution_count": 20,
   "metadata": {},
   "outputs": [],
   "source": [
    "test_harness_dfs = []\n",
    "for name, algorithm in algorithms:\n",
    "    results = cross_validate(\n",
    "        estimator=algorithm,\n",
    "        X=X_train,\n",
    "        y=y_train,\n",
    "        cv=10,\n",
    "        scoring=measures\n",
    "    )\n",
    "    test_harness_df = pd.DataFrame({\n",
    "        'algorithm': [name],\n",
    "        'r2': [results['test_r2'].mean()],\n",
    "        'mse': [results['test_neg_mean_squared_error'].mean() * -1]\n",
    "    })\n",
    "    test_harness_dfs.append(test_harness_df)\n"
   ]
  },
  {
   "cell_type": "code",
   "execution_count": 21,
   "metadata": {},
   "outputs": [
    {
     "data": {
      "text/html": [
       "<div>\n",
       "<style scoped>\n",
       "    .dataframe tbody tr th:only-of-type {\n",
       "        vertical-align: middle;\n",
       "    }\n",
       "\n",
       "    .dataframe tbody tr th {\n",
       "        vertical-align: top;\n",
       "    }\n",
       "\n",
       "    .dataframe thead th {\n",
       "        text-align: right;\n",
       "    }\n",
       "</style>\n",
       "<table border=\"1\" class=\"dataframe\">\n",
       "  <thead>\n",
       "    <tr style=\"text-align: right;\">\n",
       "      <th></th>\n",
       "      <th>algorithm</th>\n",
       "      <th>r2</th>\n",
       "      <th>mse</th>\n",
       "    </tr>\n",
       "  </thead>\n",
       "  <tbody>\n",
       "    <tr>\n",
       "      <th>0</th>\n",
       "      <td>Linear Regression</td>\n",
       "      <td>0.553867</td>\n",
       "      <td>33487.520274</td>\n",
       "    </tr>\n",
       "    <tr>\n",
       "      <th>0</th>\n",
       "      <td>Ridge</td>\n",
       "      <td>0.553869</td>\n",
       "      <td>33487.497792</td>\n",
       "    </tr>\n",
       "    <tr>\n",
       "      <th>0</th>\n",
       "      <td>LASSO</td>\n",
       "      <td>0.554053</td>\n",
       "      <td>33480.361398</td>\n",
       "    </tr>\n",
       "    <tr>\n",
       "      <th>0</th>\n",
       "      <td>Random Forest</td>\n",
       "      <td>0.629002</td>\n",
       "      <td>27607.055472</td>\n",
       "    </tr>\n",
       "    <tr>\n",
       "      <th>0</th>\n",
       "      <td>XGBoost</td>\n",
       "      <td>0.613304</td>\n",
       "      <td>28841.677260</td>\n",
       "    </tr>\n",
       "  </tbody>\n",
       "</table>\n",
       "</div>"
      ],
      "text/plain": [
       "           algorithm        r2           mse\n",
       "0  Linear Regression  0.553867  33487.520274\n",
       "0              Ridge  0.553869  33487.497792\n",
       "0              LASSO  0.554053  33480.361398\n",
       "0      Random Forest  0.629002  27607.055472\n",
       "0            XGBoost  0.613304  28841.677260"
      ]
     },
     "execution_count": 21,
     "metadata": {},
     "output_type": "execute_result"
    }
   ],
   "source": [
    "pd.concat(test_harness_dfs)"
   ]
  },
  {
   "cell_type": "code",
   "execution_count": null,
   "metadata": {},
   "outputs": [],
   "source": [
    "algorithms = [\n",
    "    ('Linear Regression', linear_model.LinearRegression()),\n",
    "    ('Ridge', linear_model.Ridge(random_state=42)),\n",
    "    ('LASSO', linear_model.Lasso(random_state=42)),\n",
    "    ('Random Forest', RandomForestRegressor(random_state=42)),\n",
    "    ('XGBoost', XGBRegressor(random_state=42)),\n",
    "    ('LGBM', LGBMRegressor(random_state=42))\n",
    "]\n"
   ]
  }
 ],
 "metadata": {
  "kernelspec": {
   "display_name": "base",
   "language": "python",
   "name": "python3"
  },
  "language_info": {
   "codemirror_mode": {
    "name": "ipython",
    "version": 3
   },
   "file_extension": ".py",
   "mimetype": "text/x-python",
   "name": "python",
   "nbconvert_exporter": "python",
   "pygments_lexer": "ipython3",
   "version": "3.9.12"
  },
  "orig_nbformat": 4
 },
 "nbformat": 4,
 "nbformat_minor": 2
}
